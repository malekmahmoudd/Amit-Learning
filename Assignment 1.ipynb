{
 "cells": [
  {
   "cell_type": "markdown",
   "metadata": {
    "id": "DJyD36nAzoW7"
   },
   "source": [
    "# **Task 1: Lists, Tuples, and Sets**"
   ]
  },
  {
   "cell_type": "markdown",
   "metadata": {
    "id": "cNx2q6s0zqWv"
   },
   "source": [
    "* Create a list containing the numbers `[10, 20, 30, 40, 50]`.\n",
    "* Print the third element from the list.\n",
    "* Convert the list into a tuple and print it.\n",
    "* Convert the list into a set and print it."
   ]
  },
  {
   "cell_type": "code",
   "metadata": {
    "id": "yUDvtsSgxYl7",
    "jupyter": {
     "is_executing": true
    }
   },
   "source": [
    "my_list = [10 ,20 ,30 ,40 ,50]\n",
    "print(my_list[2])\n",
    "my_tuple = tuple(my_list)\n",
    "print(my_tuple)\n",
    "my_set = set(my_list)\n",
    "print(my_set)"
   ],
   "outputs": [],
   "execution_count": null
  },
  {
   "cell_type": "markdown",
   "metadata": {
    "id": "te5sIazBzuGC"
   },
   "source": [
    "# **Task 2: Dictionary Operations**"
   ]
  },
  {
   "cell_type": "markdown",
   "metadata": {
    "id": "sRt6w4aGzvSu"
   },
   "source": [
    "1. Create a dictionary with the following key-value pairs:\n",
    " * \"**name**\": \"Alice\"\n",
    " * \"**age**\": 25\n",
    " * \"**city**\": \"New York\"\n",
    "2. Print the value associated with the \"age\" key.\n",
    "3. Add a new key \"job\" with the value \"Engineer\".\n",
    "4. Update the \"age\" value to 26.\n",
    "5. Print the updated dictionary."
   ]
  },
  {
   "cell_type": "code",
   "execution_count": null,
   "metadata": {
    "id": "aFQloXjtzvEO"
   },
   "outputs": [],
   "source": [
    "dict = {\n",
    "    \"name\" : \"Alice\",\n",
    "    \"Age\" : 25,\n",
    "    \"City\" : \"New York\"\n",
    "}\n",
    "print(dict)\n",
    "print(\"Age Is: \", person[\"Age\"])\n",
    "person[\"job\"] = \"Engineer\"\n",
    "person[\"Age\"] = 26\n",
    "print(\"Updated Dictionary: \", dict)"
   ]
  },
  {
   "cell_type": "markdown",
   "metadata": {
    "id": "v7G26IPEz32q"
   },
   "source": [
    "# **Task 3: Basic Arithmetic Operations**"
   ]
  },
  {
   "cell_type": "markdown",
   "metadata": {
    "id": "la7De3nmz6F2"
   },
   "source": [
    "Write a Python program that:\n",
    "\n",
    "1. Asks the user to enter two numbers.\n",
    "2. Performs the following operations and prints the results:\n",
    " * Addition (+)\n",
    " * Subtraction (-)\n",
    " * Multiplication (*)\n",
    " * Division (/)"
   ]
  },
  {
   "cell_type": "code",
   "execution_count": null,
   "metadata": {
    "id": "uUi_JyK30EvV"
   },
   "outputs": [],
   "source": [
    "num1 = int(input(\"Please Enter The First number: \"))\n",
    "num2 = int(input(\"Please Enter The Second number: \"))\n",
    "addition = num1 + num2\n",
    "Subtraction = num1 - num2\n",
    "multiplication = num1 * num2\n",
    "division = num1 / num2\n",
    "print(\"addition: \", addition)\n",
    "print(\"subtraction: \", Subtraction)\n",
    "print(\"Multiplication: \", multiplication)\n",
    "print(\"Division: \", division)"
   ]
  },
  {
   "cell_type": "markdown",
   "metadata": {
    "id": "Kp1TFNEQ0CFM"
   },
   "source": [
    "# **Task 4: Modulo Operator**"
   ]
  },
  {
   "cell_type": "markdown",
   "metadata": {
    "id": "EBsebuVq0ERf"
   },
   "source": [
    "1. Ask the user to enter a number.\n",
    "2. Check if the number is even or odd using the modulus operator (%).\n",
    "3. Print \"Even\" if the number is divisible by 2, otherwise print \"Odd\"."
   ]
  },
  {
   "cell_type": "code",
   "execution_count": null,
   "metadata": {
    "id": "cUEKshPnz519"
   },
   "outputs": [],
   "source": [
    "number = int(input(\"Please Enter A number: \"))\n",
    "if number % 2 ==0 :\n",
    "    print(\"Number Is Even\")\n",
    "else:\n",
    "    print(\"number is odd\")"
   ]
  },
  {
   "cell_type": "markdown",
   "metadata": {
    "id": "TpGBCxSl0JHO"
   },
   "source": [
    "#  **Task 5: If Condition**"
   ]
  },
  {
   "cell_type": "markdown",
   "metadata": {
    "id": "p9KqJh2h0LQs"
   },
   "source": [
    "1. Ask the user to enter their age.\n",
    "2. Print the following messages based on their age:\n",
    " * If the age is less than 18, print \"You are a minor.\"\n",
    " * If the age is 18 or older but less than 60, print \"You are an adult.\"\n",
    " * If the age is 60 or older, print \"You are a senior citizen.\""
   ]
  },
  {
   "cell_type": "code",
   "execution_count": null,
   "metadata": {
    "id": "VFypeMIO0JCR"
   },
   "outputs": [],
   "source": [
    "Uage = int(input(\"Please Enter Your Age: \"))\n",
    "if Uage < 18:\n",
    "    print(\"you are a minor\")\n",
    "elif Uage >= 18 and Uage < 60:\n",
    "    print(\"you are an adult\")\n",
    "elif Uage >= 60:\n",
    "    print(\"you are a senior citizen\")\n",
    "else:\n",
    "    print(\"Something Went Wrong, Please Try Again Later!\")"
   ]
  },
  {
   "cell_type": "markdown",
   "metadata": {
    "id": "MIYYIw9E0P67"
   },
   "source": [
    "# **Task 6: Nested If Condition**"
   ]
  },
  {
   "cell_type": "markdown",
   "metadata": {
    "id": "d55a7e050QsY"
   },
   "source": [
    "1. Ask the user for a temperature in Celsius.\n",
    "2. Print different messages based on the following conditions:\n",
    " * If the temperature is below 0, print \"Freezing!\"\n",
    " * If the temperature is between 0 and 20, print \"Cold\"\n",
    " * If the temperature is between 21 and 30, print \"Warm\"\n",
    " * If the temperature is above 30, print \"Hot!\""
   ]
  },
  {
   "cell_type": "code",
   "metadata": {
    "id": "piHS37rT0P1j",
    "jupyter": {
     "is_executing": true
    }
   },
   "source": [
    "Temp = int(input(\"please enter Current Temprature: \"))\n",
    "if temp < 0:\n",
    "    print(\"Freezing!\")\n",
    "elif 0 < temp < 20:\n",
    "    print(\"Cold\")\n",
    "elif 21 < temp < 30:\n",
    "    print(\"warm\")\n",
    "elif temp > 30:\n",
    "    print(\"hot!\")\n",
    "else:\n",
    "    print(\"Wrong Input!\")"
   ],
   "outputs": [],
   "execution_count": null
  },
  {
   "cell_type": "markdown",
   "metadata": {
    "id": "iX5EDklJ0Xtb"
   },
   "source": [
    "# **Task 7: For Loop**"
   ]
  },
  {
   "cell_type": "markdown",
   "metadata": {
    "id": "AV7JKKu60Yim"
   },
   "source": [
    "1. Write a Python program that prints numbers from 1 to 10 using a for loop.\n",
    "2. Print \"Even\" if the number is even, otherwise print \"Odd\"."
   ]
  },
  {
   "cell_type": "code",
   "execution_count": null,
   "metadata": {
    "id": "Ca5ISJIS0XkS"
   },
   "outputs": [],
   "source": [
    "def check_even_odd(n):\n",
    "    return \"Even\" if n % 2 == 0 else \"Odd\"\n",
    "\n",
    "for num in range (1,11):\n",
    "    print(num, check_even_odd(num))"
   ]
  },
  {
   "cell_type": "markdown",
   "metadata": {
    "id": "o1l7A4zx0abo"
   },
   "source": [
    "# **Task 8: While Loop**"
   ]
  },
  {
   "cell_type": "markdown",
   "metadata": {
    "id": "gu0wkyhB0dON"
   },
   "source": [
    "Write a Python program that prints numbers from 5 down to 1 using a while loop.\n"
   ]
  },
  {
   "cell_type": "code",
   "execution_count": null,
   "metadata": {
    "id": "uD758XPf0aWj"
   },
   "outputs": [],
   "source": [
    "x = 5\n",
    "while x >= 1:\n",
    "    print(x)\n",
    "    x -= 1\n",
    "else:\n",
    "    print(\"loop is Done!\")"
   ]
  },
  {
   "cell_type": "markdown",
   "metadata": {
    "id": "NmQ2yR6T0gfu"
   },
   "source": [
    "# **Task 9: Loop with Break**"
   ]
  },
  {
   "cell_type": "markdown",
   "metadata": {
    "id": "ImFEYXy_0hV5"
   },
   "source": [
    "1. Write a Python program that asks the user to enter numbers continuously.\n",
    "2. If the user enters 0, the program should stop (break).\n",
    "3. Otherwise, the program prints \"You entered: < number >\" and asks for another input."
   ]
  },
  {
   "cell_type": "code",
   "execution_count": null,
   "metadata": {
    "id": "L0ZNNFwW0rJu"
   },
   "outputs": [],
   "source": [
    "while True:\n",
    "    num = int(input(\"Please Enter A number (0 To Exit): \"))\n",
    "\n",
    "if num == 0:\n",
    "    print(\"Program Stopped.\")\n",
    "    break\n",
    "else:\n",
    "    print(f\"You entered: {num}\")"
   ]
  },
  {
   "cell_type": "markdown",
   "metadata": {
    "id": "G07xPiZ30poe"
   },
   "source": [
    "# **Task 10: Challenge Task**"
   ]
  },
  {
   "cell_type": "markdown",
   "metadata": {
    "id": "hCCyrs0q0qy4"
   },
   "source": [
    "1. Write a Python program that prints the Fibonacci sequence up to 10 terms.\n",
    "2. The Fibonacci sequence starts with 0, 1, and each next number is the sum of the previous two numbers."
   ]
  },
  {
   "cell_type": "code",
   "execution_count": null,
   "metadata": {
    "id": "I6MkrzMg0gYT"
   },
   "outputs": [],
   "source": [
    "a = 0\n",
    "b = 1\n",
    "element = 0\n",
    "while element < 10:\n",
    "    print(a)\n",
    "\n",
    "    fibonacci = a + b\n",
    "    a = b\n",
    "    b = fibonacci\n",
    "    element += 1"
   ]
  }
 ],
 "metadata": {
  "colab": {
   "collapsed_sections": [
    "DJyD36nAzoW7",
    "te5sIazBzuGC",
    "v7G26IPEz32q",
    "Kp1TFNEQ0CFM",
    "TpGBCxSl0JHO",
    "MIYYIw9E0P67",
    "iX5EDklJ0Xtb",
    "o1l7A4zx0abo",
    "NmQ2yR6T0gfu",
    "G07xPiZ30poe"
   ],
   "provenance": []
  },
  "kernelspec": {
   "display_name": "Python 3 (ipykernel)",
   "language": "python",
   "name": "python3"
  },
  "language_info": {
   "codemirror_mode": {
    "name": "ipython",
    "version": 3
   },
   "file_extension": ".py",
   "mimetype": "text/x-python",
   "name": "python",
   "nbconvert_exporter": "python",
   "pygments_lexer": "ipython3",
   "version": "3.12.4"
  }
 },
 "nbformat": 4,
 "nbformat_minor": 4
}
